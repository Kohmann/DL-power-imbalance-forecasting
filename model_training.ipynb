{
 "cells": [
  {
   "cell_type": "code",
   "execution_count": 130,
   "metadata": {
    "collapsed": true,
    "pycharm": {
     "name": "#%%\n"
    }
   },
   "outputs": [
    {
     "name": "stdout",
     "output_type": "stream",
     "text": [
      "The autoreload extension is already loaded. To reload it, use:\n",
      "  %reload_ext autoreload\n"
     ]
    }
   ],
   "source": [
    "import pandas as pd\n",
    "import numpy as np\n",
    "import matplotlib.pyplot as plt\n",
    "from tqdm import tqdm\n",
    "import tensorflow as tf\n",
    "%load_ext autoreload"
   ]
  },
  {
   "cell_type": "markdown",
   "source": [
    "## Data cleaning"
   ],
   "metadata": {
    "collapsed": false,
    "pycharm": {
     "name": "#%% md\n"
    }
   }
  },
  {
   "cell_type": "code",
   "execution_count": 131,
   "outputs": [],
   "source": [
    "from functions import clean_data"
   ],
   "metadata": {
    "collapsed": false,
    "pycharm": {
     "name": "#%%\n"
    }
   }
  },
  {
   "cell_type": "code",
   "execution_count": 132,
   "outputs": [
    {
     "name": "stdout",
     "output_type": "stream",
     "text": [
      "Upper bound: 1965.4099018235388\n",
      "Lower bound: -876.8264394156931\n",
      "Points clamped: 1126. In percent 0.5002%\n",
      "Points clamped: 306. In percent 1.0876%\n"
     ]
    }
   ],
   "source": [
    "%autoreload\n",
    "df_train = pd.read_csv(\"data/no1_train.csv\")\n",
    "df_test = pd.read_csv(\"data/no1_validation.csv\")  # pd.read_csv(\"data/no1_test.csv\")\n",
    "\n",
    "# NEGATE FLOW\n",
    "df_train[\"flow\"] = -1.0 * df_train[\"flow\"]\n",
    "df_test[\"flow\"] = -1.0 * df_test[\"flow\"]\n",
    "\n",
    "\n",
    "percent = 0.005\n",
    "upper_bound = df_train.y.quantile(1-percent/2)\n",
    "lower_bound = df_train.y.quantile(percent/2)\n",
    "\n",
    "print(\"Upper bound:\", upper_bound)\n",
    "print(\"Lower bound:\", lower_bound)\n",
    "\n",
    "\n",
    "df_train = clean_data(df_train, upper_bound, lower_bound)\n",
    "df_test = clean_data(df_test, upper_bound, lower_bound)"
   ],
   "metadata": {
    "collapsed": false,
    "pycharm": {
     "name": "#%%\n"
    }
   }
  },
  {
   "cell_type": "markdown",
   "source": [
    "## Define features"
   ],
   "metadata": {
    "collapsed": false
   }
  },
  {
   "cell_type": "code",
   "execution_count": 133,
   "outputs": [
    {
     "data": {
      "text/plain": "            start_time     hydro    micro  thermal    wind  river     total  \\\n0  2019-01-09 14:10:00  1591.839  141.928     11.5  74.428    0.0  1819.695   \n1  2019-01-09 14:15:00  1591.839  141.928     11.5  74.428    0.0  1819.695   \n2  2019-01-09 14:20:00  1591.839  141.928     11.5  74.428    0.0  1819.695   \n3  2019-01-09 14:25:00  1591.839  141.928     11.5  74.428    0.0  1819.695   \n4  2019-01-09 14:30:00  1591.839  141.928     11.5  74.428    0.0  1819.695   \n\n            y  sys_reg    flow  \n0  341.330021     10.0  4417.4  \n1  330.114330     10.0  4417.4  \n2  323.877221     10.0  4417.4  \n3  296.438463     10.0  4417.4  \n4  269.097132     10.0  4417.4  ",
      "text/html": "<div>\n<style scoped>\n    .dataframe tbody tr th:only-of-type {\n        vertical-align: middle;\n    }\n\n    .dataframe tbody tr th {\n        vertical-align: top;\n    }\n\n    .dataframe thead th {\n        text-align: right;\n    }\n</style>\n<table border=\"1\" class=\"dataframe\">\n  <thead>\n    <tr style=\"text-align: right;\">\n      <th></th>\n      <th>start_time</th>\n      <th>hydro</th>\n      <th>micro</th>\n      <th>thermal</th>\n      <th>wind</th>\n      <th>river</th>\n      <th>total</th>\n      <th>y</th>\n      <th>sys_reg</th>\n      <th>flow</th>\n    </tr>\n  </thead>\n  <tbody>\n    <tr>\n      <th>0</th>\n      <td>2019-01-09 14:10:00</td>\n      <td>1591.839</td>\n      <td>141.928</td>\n      <td>11.5</td>\n      <td>74.428</td>\n      <td>0.0</td>\n      <td>1819.695</td>\n      <td>341.330021</td>\n      <td>10.0</td>\n      <td>4417.4</td>\n    </tr>\n    <tr>\n      <th>1</th>\n      <td>2019-01-09 14:15:00</td>\n      <td>1591.839</td>\n      <td>141.928</td>\n      <td>11.5</td>\n      <td>74.428</td>\n      <td>0.0</td>\n      <td>1819.695</td>\n      <td>330.114330</td>\n      <td>10.0</td>\n      <td>4417.4</td>\n    </tr>\n    <tr>\n      <th>2</th>\n      <td>2019-01-09 14:20:00</td>\n      <td>1591.839</td>\n      <td>141.928</td>\n      <td>11.5</td>\n      <td>74.428</td>\n      <td>0.0</td>\n      <td>1819.695</td>\n      <td>323.877221</td>\n      <td>10.0</td>\n      <td>4417.4</td>\n    </tr>\n    <tr>\n      <th>3</th>\n      <td>2019-01-09 14:25:00</td>\n      <td>1591.839</td>\n      <td>141.928</td>\n      <td>11.5</td>\n      <td>74.428</td>\n      <td>0.0</td>\n      <td>1819.695</td>\n      <td>296.438463</td>\n      <td>10.0</td>\n      <td>4417.4</td>\n    </tr>\n    <tr>\n      <th>4</th>\n      <td>2019-01-09 14:30:00</td>\n      <td>1591.839</td>\n      <td>141.928</td>\n      <td>11.5</td>\n      <td>74.428</td>\n      <td>0.0</td>\n      <td>1819.695</td>\n      <td>269.097132</td>\n      <td>10.0</td>\n      <td>4417.4</td>\n    </tr>\n  </tbody>\n</table>\n</div>"
     },
     "execution_count": 133,
     "metadata": {},
     "output_type": "execute_result"
    }
   ],
   "source": [
    "df_train.head()"
   ],
   "metadata": {
    "collapsed": false,
    "pycharm": {
     "name": "#%%\n"
    }
   }
  },
  {
   "cell_type": "code",
   "execution_count": 134,
   "outputs": [
    {
     "data": {
      "text/plain": "             start_time     hydro    micro  thermal    wind  river     total  \\\n292 2019-01-10 14:30:00  2060.334  138.458     11.5  63.212    0.0  2273.504   \n293 2019-01-10 14:35:00  2060.334  138.458     11.5  63.212    0.0  2273.504   \n294 2019-01-10 14:40:00  2060.334  138.458     11.5  63.212    0.0  2273.504   \n295 2019-01-10 14:45:00  2060.334  138.458     11.5  63.212    0.0  2273.504   \n296 2019-01-10 14:50:00  2060.334  138.458     11.5  63.212    0.0  2273.504   \n\n              y  sys_reg    flow  ...  Month sine  Month cosine  Week sine  \\\n292  326.137265      0.0  4236.4  ...         0.5      0.866025   0.239316   \n293  291.972908      0.0  4236.4  ...         0.5      0.866025   0.239316   \n294  268.461842      0.0  4236.4  ...         0.5      0.866025   0.239316   \n295  233.799615      0.0  4236.4  ...         0.5      0.866025   0.239316   \n296  216.108615      0.0  4236.4  ...         0.5      0.866025   0.239316   \n\n     Week cosine  total_interpolated  flow_interpolated  structural_imbalance  \\\n292     0.970942         2273.503906        4236.399902              0.000191   \n293     0.970942         2273.641357        4245.435547             -9.172904   \n294     0.970942         2274.247559        4254.811035            -19.154594   \n295     0.970942         2275.253662        4264.382812            -29.732475   \n296     0.970942         2276.590332        4274.006836            -40.693168   \n\n     y_struc_imb    prev_y_1  prev_y_288  \n292   326.137073  329.690018  269.019912  \n293   301.145812  327.449206  253.051334  \n294   287.616436  301.078175  257.608242  \n295   263.532090  286.404757  231.225476  \n296   256.801783  263.986066  230.812491  \n\n[5 rows x 26 columns]",
      "text/html": "<div>\n<style scoped>\n    .dataframe tbody tr th:only-of-type {\n        vertical-align: middle;\n    }\n\n    .dataframe tbody tr th {\n        vertical-align: top;\n    }\n\n    .dataframe thead th {\n        text-align: right;\n    }\n</style>\n<table border=\"1\" class=\"dataframe\">\n  <thead>\n    <tr style=\"text-align: right;\">\n      <th></th>\n      <th>start_time</th>\n      <th>hydro</th>\n      <th>micro</th>\n      <th>thermal</th>\n      <th>wind</th>\n      <th>river</th>\n      <th>total</th>\n      <th>y</th>\n      <th>sys_reg</th>\n      <th>flow</th>\n      <th>...</th>\n      <th>Month sine</th>\n      <th>Month cosine</th>\n      <th>Week sine</th>\n      <th>Week cosine</th>\n      <th>total_interpolated</th>\n      <th>flow_interpolated</th>\n      <th>structural_imbalance</th>\n      <th>y_struc_imb</th>\n      <th>prev_y_1</th>\n      <th>prev_y_288</th>\n    </tr>\n  </thead>\n  <tbody>\n    <tr>\n      <th>292</th>\n      <td>2019-01-10 14:30:00</td>\n      <td>2060.334</td>\n      <td>138.458</td>\n      <td>11.5</td>\n      <td>63.212</td>\n      <td>0.0</td>\n      <td>2273.504</td>\n      <td>326.137265</td>\n      <td>0.0</td>\n      <td>4236.4</td>\n      <td>...</td>\n      <td>0.5</td>\n      <td>0.866025</td>\n      <td>0.239316</td>\n      <td>0.970942</td>\n      <td>2273.503906</td>\n      <td>4236.399902</td>\n      <td>0.000191</td>\n      <td>326.137073</td>\n      <td>329.690018</td>\n      <td>269.019912</td>\n    </tr>\n    <tr>\n      <th>293</th>\n      <td>2019-01-10 14:35:00</td>\n      <td>2060.334</td>\n      <td>138.458</td>\n      <td>11.5</td>\n      <td>63.212</td>\n      <td>0.0</td>\n      <td>2273.504</td>\n      <td>291.972908</td>\n      <td>0.0</td>\n      <td>4236.4</td>\n      <td>...</td>\n      <td>0.5</td>\n      <td>0.866025</td>\n      <td>0.239316</td>\n      <td>0.970942</td>\n      <td>2273.641357</td>\n      <td>4245.435547</td>\n      <td>-9.172904</td>\n      <td>301.145812</td>\n      <td>327.449206</td>\n      <td>253.051334</td>\n    </tr>\n    <tr>\n      <th>294</th>\n      <td>2019-01-10 14:40:00</td>\n      <td>2060.334</td>\n      <td>138.458</td>\n      <td>11.5</td>\n      <td>63.212</td>\n      <td>0.0</td>\n      <td>2273.504</td>\n      <td>268.461842</td>\n      <td>0.0</td>\n      <td>4236.4</td>\n      <td>...</td>\n      <td>0.5</td>\n      <td>0.866025</td>\n      <td>0.239316</td>\n      <td>0.970942</td>\n      <td>2274.247559</td>\n      <td>4254.811035</td>\n      <td>-19.154594</td>\n      <td>287.616436</td>\n      <td>301.078175</td>\n      <td>257.608242</td>\n    </tr>\n    <tr>\n      <th>295</th>\n      <td>2019-01-10 14:45:00</td>\n      <td>2060.334</td>\n      <td>138.458</td>\n      <td>11.5</td>\n      <td>63.212</td>\n      <td>0.0</td>\n      <td>2273.504</td>\n      <td>233.799615</td>\n      <td>0.0</td>\n      <td>4236.4</td>\n      <td>...</td>\n      <td>0.5</td>\n      <td>0.866025</td>\n      <td>0.239316</td>\n      <td>0.970942</td>\n      <td>2275.253662</td>\n      <td>4264.382812</td>\n      <td>-29.732475</td>\n      <td>263.532090</td>\n      <td>286.404757</td>\n      <td>231.225476</td>\n    </tr>\n    <tr>\n      <th>296</th>\n      <td>2019-01-10 14:50:00</td>\n      <td>2060.334</td>\n      <td>138.458</td>\n      <td>11.5</td>\n      <td>63.212</td>\n      <td>0.0</td>\n      <td>2273.504</td>\n      <td>216.108615</td>\n      <td>0.0</td>\n      <td>4236.4</td>\n      <td>...</td>\n      <td>0.5</td>\n      <td>0.866025</td>\n      <td>0.239316</td>\n      <td>0.970942</td>\n      <td>2276.590332</td>\n      <td>4274.006836</td>\n      <td>-40.693168</td>\n      <td>256.801783</td>\n      <td>263.986066</td>\n      <td>230.812491</td>\n    </tr>\n  </tbody>\n</table>\n<p>5 rows × 26 columns</p>\n</div>"
     },
     "execution_count": 134,
     "metadata": {},
     "output_type": "execute_result"
    }
   ],
   "source": [
    "from functions import add_structural_imbalance, add_time_features, add_lag_features\n",
    "\n",
    "column_indcies = ['hydro', 'micro', 'thermal', 'wind', 'total',\n",
    "        'sys_reg', 'flow', 'Minute sine', 'Minute cosine', 'Hour sine',\n",
    "       'Hour cosine', 'Day sine', 'Day cosine', 'Month sine', 'Month cosine',\n",
    "       'Week sine', 'Week cosine', 'prev_y_288', 'prev_y_1'] ## y should be last column,\n",
    "\n",
    "lags = [1,12*24]\n",
    "addNoise = True\n",
    "lag_mean_prev_day = False\n",
    "struc_imbalance = True\n",
    "\n",
    "target_name = \"y_struc_imb\" if struc_imbalance else \"y\"\n",
    "column_indcies.append(target_name)\n",
    "\n",
    "df_train = add_time_features(df_train)\n",
    "if struc_imbalance: df_train = add_structural_imbalance(df_train, feature_name=target_name) # new y = y_struc_imb\n",
    "df_train = add_lag_features(df_train, feature=target_name, lags=lags, addNoise=addNoise, addMeanprevDay=lag_mean_prev_day)\n",
    "\n",
    "\n",
    "df_test = add_time_features(df_test)\n",
    "if struc_imbalance: df_test = add_structural_imbalance(df_test, feature_name=target_name)\n",
    "df_test = add_lag_features(df_test, feature=target_name, lags=lags, addNoise=addNoise, addMeanprevDay=lag_mean_prev_day)\n",
    "\n",
    "df_train.head()"
   ],
   "metadata": {
    "collapsed": false,
    "pycharm": {
     "name": "#%%\n"
    }
   }
  },
  {
   "cell_type": "code",
   "execution_count": 125,
   "outputs": [
    {
     "data": {
      "text/plain": "        hydro    micro  thermal    wind     total  sys_reg    flow  \\\n292  2060.334  138.458     11.5  63.212  2273.504      0.0  4236.4   \n293  2060.334  138.458     11.5  63.212  2273.504      0.0  4236.4   \n294  2060.334  138.458     11.5  63.212  2273.504      0.0  4236.4   \n295  2060.334  138.458     11.5  63.212  2273.504      0.0  4236.4   \n296  2060.334  138.458     11.5  63.212  2273.504      0.0  4236.4   \n\n      Minute sine  Minute cosine  Hour sine  Hour cosine  Day sine  \\\n292  5.665539e-16  -1.000000e+00       -0.5    -0.866025  0.171176   \n293 -5.000000e-01  -8.660254e-01       -0.5    -0.866025  0.171176   \n294 -8.660254e-01  -5.000000e-01       -0.5    -0.866025  0.171176   \n295 -1.000000e+00  -1.836970e-16       -0.5    -0.866025  0.171176   \n296 -8.660254e-01   5.000000e-01       -0.5    -0.866025  0.171176   \n\n     Day cosine  Month sine  Month cosine  Week sine  Week cosine  prev_y_288  \\\n292     0.98524         0.5      0.866025   0.239316     0.970942  269.096980   \n293     0.98524         0.5      0.866025   0.239316     0.970942  251.739201   \n294     0.98524         0.5      0.866025   0.239316     0.970942  257.675880   \n295     0.98524         0.5      0.866025   0.239316     0.970942  232.437155   \n296     0.98524         0.5      0.866025   0.239316     0.970942  230.358515   \n\n       prev_y_1  y_struc_imb  \n292  329.767086   326.137073  \n293  326.137073   301.145812  \n294  301.145812   287.616436  \n295  287.616436   263.532090  \n296  263.532090   256.801783  ",
      "text/html": "<div>\n<style scoped>\n    .dataframe tbody tr th:only-of-type {\n        vertical-align: middle;\n    }\n\n    .dataframe tbody tr th {\n        vertical-align: top;\n    }\n\n    .dataframe thead th {\n        text-align: right;\n    }\n</style>\n<table border=\"1\" class=\"dataframe\">\n  <thead>\n    <tr style=\"text-align: right;\">\n      <th></th>\n      <th>hydro</th>\n      <th>micro</th>\n      <th>thermal</th>\n      <th>wind</th>\n      <th>total</th>\n      <th>sys_reg</th>\n      <th>flow</th>\n      <th>Minute sine</th>\n      <th>Minute cosine</th>\n      <th>Hour sine</th>\n      <th>Hour cosine</th>\n      <th>Day sine</th>\n      <th>Day cosine</th>\n      <th>Month sine</th>\n      <th>Month cosine</th>\n      <th>Week sine</th>\n      <th>Week cosine</th>\n      <th>prev_y_288</th>\n      <th>prev_y_1</th>\n      <th>y_struc_imb</th>\n    </tr>\n  </thead>\n  <tbody>\n    <tr>\n      <th>292</th>\n      <td>2060.334</td>\n      <td>138.458</td>\n      <td>11.5</td>\n      <td>63.212</td>\n      <td>2273.504</td>\n      <td>0.0</td>\n      <td>4236.4</td>\n      <td>5.665539e-16</td>\n      <td>-1.000000e+00</td>\n      <td>-0.5</td>\n      <td>-0.866025</td>\n      <td>0.171176</td>\n      <td>0.98524</td>\n      <td>0.5</td>\n      <td>0.866025</td>\n      <td>0.239316</td>\n      <td>0.970942</td>\n      <td>269.096980</td>\n      <td>329.767086</td>\n      <td>326.137073</td>\n    </tr>\n    <tr>\n      <th>293</th>\n      <td>2060.334</td>\n      <td>138.458</td>\n      <td>11.5</td>\n      <td>63.212</td>\n      <td>2273.504</td>\n      <td>0.0</td>\n      <td>4236.4</td>\n      <td>-5.000000e-01</td>\n      <td>-8.660254e-01</td>\n      <td>-0.5</td>\n      <td>-0.866025</td>\n      <td>0.171176</td>\n      <td>0.98524</td>\n      <td>0.5</td>\n      <td>0.866025</td>\n      <td>0.239316</td>\n      <td>0.970942</td>\n      <td>251.739201</td>\n      <td>326.137073</td>\n      <td>301.145812</td>\n    </tr>\n    <tr>\n      <th>294</th>\n      <td>2060.334</td>\n      <td>138.458</td>\n      <td>11.5</td>\n      <td>63.212</td>\n      <td>2273.504</td>\n      <td>0.0</td>\n      <td>4236.4</td>\n      <td>-8.660254e-01</td>\n      <td>-5.000000e-01</td>\n      <td>-0.5</td>\n      <td>-0.866025</td>\n      <td>0.171176</td>\n      <td>0.98524</td>\n      <td>0.5</td>\n      <td>0.866025</td>\n      <td>0.239316</td>\n      <td>0.970942</td>\n      <td>257.675880</td>\n      <td>301.145812</td>\n      <td>287.616436</td>\n    </tr>\n    <tr>\n      <th>295</th>\n      <td>2060.334</td>\n      <td>138.458</td>\n      <td>11.5</td>\n      <td>63.212</td>\n      <td>2273.504</td>\n      <td>0.0</td>\n      <td>4236.4</td>\n      <td>-1.000000e+00</td>\n      <td>-1.836970e-16</td>\n      <td>-0.5</td>\n      <td>-0.866025</td>\n      <td>0.171176</td>\n      <td>0.98524</td>\n      <td>0.5</td>\n      <td>0.866025</td>\n      <td>0.239316</td>\n      <td>0.970942</td>\n      <td>232.437155</td>\n      <td>287.616436</td>\n      <td>263.532090</td>\n    </tr>\n    <tr>\n      <th>296</th>\n      <td>2060.334</td>\n      <td>138.458</td>\n      <td>11.5</td>\n      <td>63.212</td>\n      <td>2273.504</td>\n      <td>0.0</td>\n      <td>4236.4</td>\n      <td>-8.660254e-01</td>\n      <td>5.000000e-01</td>\n      <td>-0.5</td>\n      <td>-0.866025</td>\n      <td>0.171176</td>\n      <td>0.98524</td>\n      <td>0.5</td>\n      <td>0.866025</td>\n      <td>0.239316</td>\n      <td>0.970942</td>\n      <td>230.358515</td>\n      <td>263.532090</td>\n      <td>256.801783</td>\n    </tr>\n  </tbody>\n</table>\n</div>"
     },
     "execution_count": 125,
     "metadata": {},
     "output_type": "execute_result"
    }
   ],
   "source": [
    "## Selectes only the wanted features\n",
    "train_data = df_train[column_indcies]\n",
    "test_data = df_test[column_indcies]\n",
    "train_data.head()"
   ],
   "metadata": {
    "collapsed": false,
    "pycharm": {
     "name": "#%%\n"
    }
   }
  },
  {
   "cell_type": "code",
   "execution_count": 126,
   "outputs": [
    {
     "data": {
      "text/plain": "<MapDataset element_spec=(TensorSpec(shape=(None, 288, 19), dtype=tf.float64, name=None), TensorSpec(shape=(None, 1), dtype=tf.float64, name=None))>"
     },
     "execution_count": 126,
     "metadata": {},
     "output_type": "execute_result"
    }
   ],
   "source": [
    "%autoreload\n",
    "from functions import WindowGenerator, build_model, fit_and_plot\n",
    "generator = WindowGenerator(train_data=train_data[-12*24*15:], test_data=test_data[:12*24*15] , target=target_name,\n",
    "\t\t\t\t\t\t\tn_input=12*24, n_output=1, shift=1, num_predictions=12*2, batch_size=32)\n",
    "\n",
    "generator.getTrainData()"
   ],
   "metadata": {
    "collapsed": false,
    "pycharm": {
     "name": "#%%\n"
    }
   }
  },
  {
   "cell_type": "code",
   "execution_count": 127,
   "outputs": [
    {
     "name": "stdout",
     "output_type": "stream",
     "text": [
      "Model: \"sequential_4\"\n",
      "_________________________________________________________________\n",
      " Layer (type)                Output Shape              Param #   \n",
      "=================================================================\n",
      " gru_4 (GRU)                 (None, 128)               57216     \n",
      "                                                                 \n",
      " dense_4 (Dense)             (None, 1)                 129       \n",
      "                                                                 \n",
      "=================================================================\n",
      "Total params: 57,345\n",
      "Trainable params: 57,345\n",
      "Non-trainable params: 0\n",
      "_________________________________________________________________\n"
     ]
    }
   ],
   "source": [
    "model = build_model(generator.getInputShape(), load_prev_model=False)\n",
    "#model = build_model(load_prev_model=\"model_weights/lstm_512_epochs20_alldata.h5\")\n",
    "model.summary()"
   ],
   "metadata": {
    "collapsed": false,
    "pycharm": {
     "name": "#%%\n"
    }
   }
  },
  {
   "cell_type": "code",
   "execution_count": 128,
   "outputs": [
    {
     "name": "stdout",
     "output_type": "stream",
     "text": [
      "Epoch 1/2\n",
      "126/126 [==============================] - 24s 179ms/step - loss: 0.3301 - mean_absolute_error: 0.4487 - val_loss: 1.2271 - val_mean_absolute_error: 0.8510\n",
      "Epoch 2/2\n",
      "126/126 [==============================] - 26s 203ms/step - loss: 0.1400 - mean_absolute_error: 0.2821 - val_loss: 2.2706 - val_mean_absolute_error: 1.3038\n"
     ]
    },
    {
     "data": {
      "text/plain": "<Figure size 432x288 with 1 Axes>",
      "image/png": "[encoded data removed]"
     },
     "metadata": {
      "needs_background": "light"
     },
     "output_type": "display_data"
    },
    {
     "data": {
      "text/plain": "<Figure size 432x288 with 1 Axes>",
      "image/png": "[encoded data removed]"
     },
     "metadata": {
      "needs_background": "light"
     },
     "output_type": "display_data"
    }
   ],
   "source": [
    "# Shuffeles data\n",
    "model = fit_and_plot(model, generator.getTrainData(), generator.getTestData(), epochs=2)"
   ],
   "metadata": {
    "collapsed": false,
    "pycharm": {
     "name": "#%%\n"
    }
   }
  },
  {
   "cell_type": "code",
   "execution_count": null,
   "outputs": [],
   "source": [
    "model = fit_and_plot(model, generator.getTrainData(), generator.getTestData(), epochs=5)"
   ],
   "metadata": {
    "collapsed": false,
    "pycharm": {
     "name": "#%%\n",
     "is_executing": true
    }
   }
  },
  {
   "cell_type": "code",
   "execution_count": null,
   "outputs": [],
   "source": [
    "generator.predict_and_plot(model, data_raw=test_data, start_positions=[0,100, 200, 300, 400, 500, 600, 700], save_plot=False)"
   ],
   "metadata": {
    "collapsed": false,
    "pycharm": {
     "name": "#%%\n",
     "is_executing": true
    }
   }
  },
  {
   "cell_type": "code",
   "execution_count": 47,
   "outputs": [
    {
     "name": "stdout",
     "output_type": "stream",
     "text": [
      "WARNING:tensorflow:Collective ops is not configured at program startup. Some performance features may not be enabled.\n",
      "INFO:tensorflow:Single-worker MultiWorkerMirroredStrategy with local_devices = ('/device:CPU:0',), communication = CommunicationImplementation.AUTO\n"
     ]
    },
    {
     "data": {
      "text/plain": "<tensorflow.python.distribute.collective_all_reduce_strategy.CollectiveAllReduceStrategy at 0x7fe76a30c208>"
     },
     "execution_count": 47,
     "metadata": {},
     "output_type": "execute_result"
    }
   ],
   "source": [],
   "metadata": {
    "collapsed": false,
    "pycharm": {
     "name": "#%%\n"
    }
   }
  },
  {
   "cell_type": "code",
   "execution_count": null,
   "outputs": [],
   "source": [],
   "metadata": {
    "collapsed": false,
    "pycharm": {
     "name": "#%%\n"
    }
   }
  },
  {
   "cell_type": "markdown",
   "source": [],
   "metadata": {
    "collapsed": false
   }
  }
 ],
 "metadata": {
  "kernelspec": {
   "display_name": "Python 3",
   "language": "python",
   "name": "python3"
  },
  "language_info": {
   "codemirror_mode": {
    "name": "ipython",
    "version": 2
   },
   "file_extension": ".py",
   "mimetype": "text/x-python",
   "name": "python",
   "nbconvert_exporter": "python",
   "pygments_lexer": "ipython2",
   "version": "2.7.6"
  }
 },
 "nbformat": 4,
 "nbformat_minor": 0
}